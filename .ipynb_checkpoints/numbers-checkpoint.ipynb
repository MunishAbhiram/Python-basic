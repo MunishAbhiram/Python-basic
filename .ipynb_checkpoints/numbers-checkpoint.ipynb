{
 "cells": [
  {
   "cell_type": "code",
   "execution_count": 1,
   "id": "aa043695-2c69-409c-911d-d9d8f1afbbd4",
   "metadata": {},
   "outputs": [
    {
     "data": {
      "text/plain": [
       "0"
      ]
     },
     "execution_count": 1,
     "metadata": {},
     "output_type": "execute_result"
    }
   ],
   "source": [
    "20%5"
   ]
  },
  {
   "cell_type": "code",
   "execution_count": 2,
   "id": "6a0c8142-4e0f-4637-a912-833892492025",
   "metadata": {},
   "outputs": [
    {
     "data": {
      "text/plain": [
       "1"
      ]
     },
     "execution_count": 2,
     "metadata": {},
     "output_type": "execute_result"
    }
   ],
   "source": [
    "21%5"
   ]
  },
  {
   "cell_type": "markdown",
   "id": "ce894db9-7e91-48a2-9c79-6f18934ee472",
   "metadata": {},
   "source": [
    "modulus (or) mod = %,\n",
    "it gives remainder"
   ]
  },
  {
   "cell_type": "code",
   "execution_count": 3,
   "id": "b9edc93f-c052-4f97-909d-4bade2ba48db",
   "metadata": {},
   "outputs": [
    {
     "data": {
      "text/plain": [
       "8"
      ]
     },
     "execution_count": 3,
     "metadata": {},
     "output_type": "execute_result"
    }
   ],
   "source": [
    "2 ** 3"
   ]
  },
  {
   "cell_type": "markdown",
   "id": "ece6158d-cf5c-4810-af22-202a2a8635cd",
   "metadata": {},
   "source": [
    "power - **"
   ]
  },
  {
   "cell_type": "code",
   "execution_count": 4,
   "id": "aa88f14d-aa1e-46bf-ab18-5b24e1ae85a2",
   "metadata": {},
   "outputs": [
    {
     "data": {
      "text/plain": [
       "12"
      ]
     },
     "execution_count": 4,
     "metadata": {},
     "output_type": "execute_result"
    }
   ],
   "source": [
    "2+3*3+1"
   ]
  },
  {
   "cell_type": "code",
   "execution_count": 5,
   "id": "c3eb143d-70bf-4238-acc0-f0585a6f204e",
   "metadata": {},
   "outputs": [
    {
     "data": {
      "text/plain": [
       "16"
      ]
     },
     "execution_count": 5,
     "metadata": {},
     "output_type": "execute_result"
    }
   ],
   "source": [
    "(2+3)*3+1"
   ]
  },
  {
   "cell_type": "code",
   "execution_count": 6,
   "id": "29b91cd6-9204-485f-b6f3-48fb409e09d4",
   "metadata": {},
   "outputs": [
    {
     "data": {
      "text/plain": [
       "5.551115123125783e-17"
      ]
     },
     "execution_count": 6,
     "metadata": {},
     "output_type": "execute_result"
    }
   ],
   "source": [
    "0.1+0.2-0.3"
   ]
  },
  {
   "cell_type": "code",
   "execution_count": null,
   "id": "c1f63e0b-38f6-4955-9e9b-60738ad578eb",
   "metadata": {},
   "outputs": [],
   "source": []
  }
 ],
 "metadata": {
  "kernelspec": {
   "display_name": "Python 3 (ipykernel)",
   "language": "python",
   "name": "python3"
  },
  "language_info": {
   "codemirror_mode": {
    "name": "ipython",
    "version": 3
   },
   "file_extension": ".py",
   "mimetype": "text/x-python",
   "name": "python",
   "nbconvert_exporter": "python",
   "pygments_lexer": "ipython3",
   "version": "3.11.5"
  }
 },
 "nbformat": 4,
 "nbformat_minor": 5
}
