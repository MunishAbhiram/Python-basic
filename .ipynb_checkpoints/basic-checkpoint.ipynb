{
 "cells": [
  {
   "cell_type": "code",
   "execution_count": 1,
   "id": "08918624-314b-4ab7-816d-83885f277a23",
   "metadata": {},
   "outputs": [],
   "source": [
    "list = ['apple','mango','grapes','orange','kiwi','banana']"
   ]
  },
  {
   "cell_type": "code",
   "execution_count": 2,
   "id": "38821f38-bc7f-4824-ad89-6d15e2d7e05c",
   "metadata": {},
   "outputs": [
    {
     "name": "stdout",
     "output_type": "stream",
     "text": [
      "6\n"
     ]
    }
   ],
   "source": [
    "print(len(list))"
   ]
  },
  {
   "cell_type": "code",
   "execution_count": 3,
   "id": "d466ccfa-5356-45cf-b30d-b282ef16ff5b",
   "metadata": {},
   "outputs": [
    {
     "name": "stdout",
     "output_type": "stream",
     "text": [
      "2\n"
     ]
    }
   ],
   "source": [
    "print(list.index('grapes'))"
   ]
  },
  {
   "cell_type": "code",
   "execution_count": 4,
   "id": "2282a107-0035-4788-b407-52fd8a20aa47",
   "metadata": {},
   "outputs": [],
   "source": [
    "list.remove('banana')"
   ]
  },
  {
   "cell_type": "code",
   "execution_count": 5,
   "id": "9650a585-7c4f-48d1-8879-aaf31108bcde",
   "metadata": {},
   "outputs": [
    {
     "name": "stdout",
     "output_type": "stream",
     "text": [
      "['apple', 'mango', 'grapes', 'orange', 'kiwi']\n"
     ]
    }
   ],
   "source": [
    "print(list)"
   ]
  },
  {
   "cell_type": "code",
   "execution_count": 6,
   "id": "1ff46822-1115-4cc7-abbc-c8d2c477b1fa",
   "metadata": {},
   "outputs": [],
   "source": [
    "list.append('litchi')"
   ]
  },
  {
   "cell_type": "code",
   "execution_count": 7,
   "id": "05b56c50-44a9-42de-b757-c00c8431fd62",
   "metadata": {},
   "outputs": [
    {
     "name": "stdout",
     "output_type": "stream",
     "text": [
      "['apple', 'mango', 'grapes', 'orange', 'kiwi', 'litchi']\n"
     ]
    }
   ],
   "source": [
    "print(list)"
   ]
  },
  {
   "cell_type": "code",
   "execution_count": 8,
   "id": "004305d2-2162-4898-a353-5199af7a7ce9",
   "metadata": {},
   "outputs": [
    {
     "data": {
      "text/plain": [
       "<function list.reverse()>"
      ]
     },
     "execution_count": 8,
     "metadata": {},
     "output_type": "execute_result"
    }
   ],
   "source": [
    "list.reverse"
   ]
  },
  {
   "cell_type": "code",
   "execution_count": 9,
   "id": "4e7321c0-cac0-451c-a229-14ca1bc7ad80",
   "metadata": {},
   "outputs": [],
   "source": [
    "list.reverse()"
   ]
  },
  {
   "cell_type": "code",
   "execution_count": 10,
   "id": "e2b8db7e-26d5-4163-8876-e77fb810f6dd",
   "metadata": {},
   "outputs": [
    {
     "name": "stdout",
     "output_type": "stream",
     "text": [
      "['litchi', 'kiwi', 'orange', 'grapes', 'mango', 'apple']\n"
     ]
    }
   ],
   "source": [
    "print(list)"
   ]
  },
  {
   "cell_type": "code",
   "execution_count": 11,
   "id": "c5a042bc-9d82-45e6-966c-d0c62df820b5",
   "metadata": {},
   "outputs": [
    {
     "name": "stdout",
     "output_type": "stream",
     "text": [
      "6\n"
     ]
    }
   ],
   "source": [
    "print(len(list))"
   ]
  },
  {
   "cell_type": "code",
   "execution_count": 12,
   "id": "8db8843b-bfd5-419e-9f98-7d49159f9974",
   "metadata": {},
   "outputs": [],
   "source": [
    "tuple = (\"hello\",7.5,29,\"abcd\",786)"
   ]
  },
  {
   "cell_type": "code",
   "execution_count": 13,
   "id": "29dc81fa-30dd-430c-a7f6-c9c900e2feaf",
   "metadata": {},
   "outputs": [
    {
     "name": "stdout",
     "output_type": "stream",
     "text": [
      "('hello', 7.5, 29, 'abcd', 786)\n"
     ]
    }
   ],
   "source": [
    "print(tuple)"
   ]
  },
  {
   "cell_type": "code",
   "execution_count": 14,
   "id": "72454722-e9ec-4ce8-9a63-a3e7e65edc23",
   "metadata": {},
   "outputs": [
    {
     "name": "stdout",
     "output_type": "stream",
     "text": [
      "hello\n"
     ]
    }
   ],
   "source": [
    "print(tuple[0])"
   ]
  },
  {
   "cell_type": "code",
   "execution_count": 16,
   "id": "edc147d8-80ea-42ea-9775-1e09266720d1",
   "metadata": {},
   "outputs": [
    {
     "name": "stdout",
     "output_type": "stream",
     "text": [
      "(29, 'abcd', 786)\n"
     ]
    }
   ],
   "source": [
    "print(tuple[2:])"
   ]
  },
  {
   "cell_type": "code",
   "execution_count": 17,
   "id": "249e9c0a-cb96-4447-8e01-0718203246af",
   "metadata": {},
   "outputs": [
    {
     "name": "stdout",
     "output_type": "stream",
     "text": [
      "(29, 'abcd')\n"
     ]
    }
   ],
   "source": [
    "print(tuple[2:4])"
   ]
  },
  {
   "cell_type": "code",
   "execution_count": 18,
   "id": "0897d736-7352-4687-9ead-b82ed8fec42f",
   "metadata": {},
   "outputs": [
    {
     "name": "stdout",
     "output_type": "stream",
     "text": [
      "('hello', 7.5, 29, 'abcd', 786, 'hello', 7.5, 29, 'abcd', 786)\n"
     ]
    }
   ],
   "source": [
    "print(tuple*2)"
   ]
  },
  {
   "cell_type": "code",
   "execution_count": 20,
   "id": "d5edc64f-0a82-4926-a1bd-29053b9ff6b7",
   "metadata": {},
   "outputs": [
    {
     "ename": "TypeError",
     "evalue": "can only concatenate tuple (not \"list\") to tuple",
     "output_type": "error",
     "traceback": [
      "\u001b[1;31m---------------------------------------------------------------------------\u001b[0m",
      "\u001b[1;31mTypeError\u001b[0m                                 Traceback (most recent call last)",
      "Cell \u001b[1;32mIn[20], line 1\u001b[0m\n\u001b[1;32m----> 1\u001b[0m \u001b[38;5;28mprint\u001b[39m(\u001b[38;5;28mtuple\u001b[39m\u001b[38;5;241m+\u001b[39m[\u001b[38;5;124m\"\u001b[39m\u001b[38;5;124mBye\u001b[39m\u001b[38;5;124m\"\u001b[39m])\n",
      "\u001b[1;31mTypeError\u001b[0m: can only concatenate tuple (not \"list\") to tuple"
     ]
    }
   ],
   "source": [
    "print(tuple+[\"Bye\"])"
   ]
  },
  {
   "cell_type": "code",
   "execution_count": 21,
   "id": "c73023ae-a160-4dd2-8ae9-2a9badf8525d",
   "metadata": {},
   "outputs": [],
   "source": [
    "student = {\n",
    "'name':'sushil',\n",
    "'class':'bca',\n",
    "'roll_no':385,\n",
    "'subject':'math',\n",
    "'marks':78\n",
    "}"
   ]
  },
  {
   "cell_type": "code",
   "execution_count": 22,
   "id": "8b2050bc-fa89-4388-b3da-347e5adfa278",
   "metadata": {},
   "outputs": [
    {
     "name": "stdout",
     "output_type": "stream",
     "text": [
      "{'name': 'sushil', 'class': 'bca', 'roll_no': 385, 'subject': 'math', 'marks': 78}\n"
     ]
    }
   ],
   "source": [
    "print(student)"
   ]
  },
  {
   "cell_type": "code",
   "execution_count": 23,
   "id": "4cedff1b-ae12-4e6b-ac6b-c679918f26e2",
   "metadata": {},
   "outputs": [
    {
     "name": "stdout",
     "output_type": "stream",
     "text": [
      "sushil\n"
     ]
    }
   ],
   "source": [
    "print(student['name'])"
   ]
  },
  {
   "cell_type": "code",
   "execution_count": 24,
   "id": "9b86bcea-41a5-4062-a409-102b77c183e4",
   "metadata": {},
   "outputs": [
    {
     "name": "stdout",
     "output_type": "stream",
     "text": [
      "385\n"
     ]
    }
   ],
   "source": [
    "print(student['roll_no'])"
   ]
  },
  {
   "cell_type": "code",
   "execution_count": 25,
   "id": "4d20c7d3-7caa-4068-b896-1dbcb156db5e",
   "metadata": {},
   "outputs": [
    {
     "name": "stdout",
     "output_type": "stream",
     "text": [
      "dict_keys(['name', 'class', 'roll_no', 'subject', 'marks'])\n"
     ]
    }
   ],
   "source": [
    "print(student.keys())"
   ]
  },
  {
   "cell_type": "code",
   "execution_count": 27,
   "id": "9d0d6c76-946d-4ab5-bb4e-638d07a31259",
   "metadata": {},
   "outputs": [
    {
     "name": "stdout",
     "output_type": "stream",
     "text": [
      "dict_values(['sushil', 'bca', 385, 'math', 78])\n"
     ]
    }
   ],
   "source": [
    "print(student.values())"
   ]
  },
  {
   "cell_type": "code",
   "execution_count": 28,
   "id": "c9cbe773-5be2-445d-8c9a-5a85065eeb68",
   "metadata": {},
   "outputs": [],
   "source": [
    "a=True"
   ]
  },
  {
   "cell_type": "code",
   "execution_count": 29,
   "id": "f5199a07-08f0-43a7-8340-ca43b0bb14fa",
   "metadata": {},
   "outputs": [
    {
     "name": "stdout",
     "output_type": "stream",
     "text": [
      "<class 'bool'>\n"
     ]
    }
   ],
   "source": [
    "print(type(a))"
   ]
  },
  {
   "cell_type": "code",
   "execution_count": 30,
   "id": "f3a879ab-98c4-4266-a6be-c017fd05581d",
   "metadata": {},
   "outputs": [
    {
     "data": {
      "text/plain": [
       "2"
      ]
     },
     "execution_count": 30,
     "metadata": {},
     "output_type": "execute_result"
    }
   ],
   "source": [
    "20//10"
   ]
  },
  {
   "cell_type": "code",
   "execution_count": 31,
   "id": "eaa71e22-f9cb-4cee-a0a5-8614cae8922b",
   "metadata": {},
   "outputs": [
    {
     "data": {
      "text/plain": [
       "10240000000000"
      ]
     },
     "execution_count": 31,
     "metadata": {},
     "output_type": "execute_result"
    }
   ],
   "source": [
    "20**10"
   ]
  },
  {
   "cell_type": "code",
   "execution_count": 32,
   "id": "65eeb3cd-4ed7-4e5d-aba2-f0bfaaa4dd26",
   "metadata": {},
   "outputs": [
    {
     "name": "stdin",
     "output_type": "stream",
     "text": [
      "enter the first number: 10\n",
      "enter the second number: 20\n"
     ]
    },
    {
     "name": "stdout",
     "output_type": "stream",
     "text": [
      "addition is: 30\n"
     ]
    }
   ],
   "source": [
    "a = int(input(\"enter the first number:\"))\n",
    "b = int(input(\"enter the second number:\"))\n",
    "c = a + b\n",
    "print(\"addition is:\",c)"
   ]
  },
  {
   "cell_type": "code",
   "execution_count": 34,
   "id": "2a9b7055-5977-4d6a-8027-762c4be45650",
   "metadata": {},
   "outputs": [
    {
     "name": "stdin",
     "output_type": "stream",
     "text": [
      "enter the first number: 20\n",
      "enter the second number: 10\n"
     ]
    },
    {
     "name": "stdout",
     "output_type": "stream",
     "text": [
      "subtraction is: 10\n"
     ]
    }
   ],
   "source": [
    "a = int(input(\"enter the first number:\"))\n",
    "b = int(input(\"enter the second number:\"))\n",
    "c = a - b\n",
    "print(\"subtraction is:\",c)"
   ]
  },
  {
   "cell_type": "code",
   "execution_count": 35,
   "id": "f135559b-002a-462b-9247-4a1f3f5cc909",
   "metadata": {},
   "outputs": [
    {
     "name": "stdin",
     "output_type": "stream",
     "text": [
      "enter the first number: 20\n",
      "enter the second number: 10\n"
     ]
    },
    {
     "name": "stdout",
     "output_type": "stream",
     "text": [
      "multiplcation is: 200\n"
     ]
    }
   ],
   "source": [
    "a = int(input(\"enter the first number:\"))\n",
    "b = int(input(\"enter the second number:\"))\n",
    "c = a * b\n",
    "print(\"multiplcation is:\",c)"
   ]
  },
  {
   "cell_type": "code",
   "execution_count": 36,
   "id": "db8b2772-d028-4582-9bd4-82b203b49292",
   "metadata": {},
   "outputs": [
    {
     "name": "stdin",
     "output_type": "stream",
     "text": [
      "enter the first number: 20\n",
      "enter the second number: 10\n"
     ]
    },
    {
     "name": "stdout",
     "output_type": "stream",
     "text": [
      "division is: 2.0\n"
     ]
    }
   ],
   "source": [
    "a = int(input(\"enter the first number:\"))\n",
    "b = int(input(\"enter the second number:\"))\n",
    "c = a / b\n",
    "print(\"division is:\",c)"
   ]
  },
  {
   "cell_type": "code",
   "execution_count": 37,
   "id": "29408564-d17b-4a33-9207-eb1afa4b4f5f",
   "metadata": {},
   "outputs": [
    {
     "name": "stdin",
     "output_type": "stream",
     "text": [
      "enter the first number: 20\n",
      "enter the second number: 10\n"
     ]
    },
    {
     "name": "stdout",
     "output_type": "stream",
     "text": [
      "module is: 0\n"
     ]
    }
   ],
   "source": [
    "a = int(input(\"enter the first number:\"))\n",
    "b = int(input(\"enter the second number:\"))\n",
    "c = a % b\n",
    "print(\"module is:\",c)"
   ]
  },
  {
   "cell_type": "code",
   "execution_count": 38,
   "id": "180aadd6-858f-431c-8a55-0eb32fc1306f",
   "metadata": {},
   "outputs": [
    {
     "name": "stdin",
     "output_type": "stream",
     "text": [
      "enter the first number: 20\n",
      "enter the second number: 10\n"
     ]
    },
    {
     "name": "stdout",
     "output_type": "stream",
     "text": [
      "floor division is: 2\n"
     ]
    }
   ],
   "source": [
    "a = int(input(\"enter the first number:\"))\n",
    "b = int(input(\"enter the second number:\"))\n",
    "c = a // b\n",
    "print(\"floor division is:\",c)"
   ]
  },
  {
   "cell_type": "code",
   "execution_count": 39,
   "id": "1b98ca84-271a-4a86-b867-ea0d82cf0379",
   "metadata": {},
   "outputs": [
    {
     "name": "stdin",
     "output_type": "stream",
     "text": [
      "enter the first number: 20\n",
      "enter the second number: 10\n"
     ]
    },
    {
     "name": "stdout",
     "output_type": "stream",
     "text": [
      "exponentiial is: 10240000000000\n"
     ]
    }
   ],
   "source": [
    "a = int(input(\"enter the first number:\"))\n",
    "b = int(input(\"enter the second number:\"))\n",
    "c = a ** b\n",
    "print(\"exponential is:\",c)"
   ]
  },
  {
   "cell_type": "code",
   "execution_count": 2,
   "id": "0abf4c54-4e07-4c66-866a-347748149334",
   "metadata": {},
   "outputs": [
    {
     "name": "stdin",
     "output_type": "stream",
     "text": [
      "enter the a values: 10\n",
      "enter the b values: 4\n"
     ]
    },
    {
     "name": "stdout",
     "output_type": "stream",
     "text": [
      "a==b is: False\n"
     ]
    }
   ],
   "source": [
    "a=int(input(\"enter the a values:\"))\n",
    "b=int(input(\"enter the b values:\"))\n",
    "c=a==b\n",
    "print(\"a==b is:\",c)"
   ]
  },
  {
   "cell_type": "code",
   "execution_count": 4,
   "id": "c2ba1bee-a8c0-4c05-9005-689c6e913ca5",
   "metadata": {},
   "outputs": [
    {
     "name": "stdin",
     "output_type": "stream",
     "text": [
      "enter the a values: 10\n",
      "enter the b values: 20\n"
     ]
    },
    {
     "name": "stdout",
     "output_type": "stream",
     "text": [
      "a!=b is: True\n"
     ]
    }
   ],
   "source": [
    "a=int(input(\"enter the a values:\"))\n",
    "b=int(input(\"enter the b values:\"))\n",
    "c=a!=b\n",
    "print(\"a!=b is:\",c)"
   ]
  },
  {
   "cell_type": "code",
   "execution_count": 5,
   "id": "71fb5e08-42bb-4df3-9d43-6ba08472c671",
   "metadata": {},
   "outputs": [
    {
     "name": "stdin",
     "output_type": "stream",
     "text": [
      "enter the a values: 20\n",
      "enter the b values: 10\n"
     ]
    },
    {
     "name": "stdout",
     "output_type": "stream",
     "text": [
      "a>b is: True\n"
     ]
    }
   ],
   "source": [
    "a=int(input(\"enter the a values:\"))\n",
    "b=int(input(\"enter the b values:\"))\n",
    "c=a>b\n",
    "print(\"a>b is:\",c)"
   ]
  },
  {
   "cell_type": "code",
   "execution_count": 6,
   "id": "1100ef90-172f-4a6b-b04f-08057670f6d8",
   "metadata": {},
   "outputs": [
    {
     "name": "stdin",
     "output_type": "stream",
     "text": [
      "enter the a values: 10\n",
      "enter the b values: 20\n"
     ]
    },
    {
     "name": "stdout",
     "output_type": "stream",
     "text": [
      "a<b is: True\n"
     ]
    }
   ],
   "source": [
    "a=int(input(\"enter the a values:\"))\n",
    "b=int(input(\"enter the b values:\"))\n",
    "c=a<b\n",
    "print(\"a<b is:\",c)"
   ]
  },
  {
   "cell_type": "code",
   "execution_count": 7,
   "id": "eef52530-cef2-4dfc-9528-891efec6c2e6",
   "metadata": {},
   "outputs": [
    {
     "name": "stdin",
     "output_type": "stream",
     "text": [
      "enter the a values: 20\n",
      "enter the b values: 20\n"
     ]
    },
    {
     "name": "stdout",
     "output_type": "stream",
     "text": [
      "a>=b is: True\n"
     ]
    }
   ],
   "source": [
    "a=int(input(\"enter the a values:\"))\n",
    "b=int(input(\"enter the b values:\"))\n",
    "c=a>=b\n",
    "print(\"a>=b is:\",c)"
   ]
  },
  {
   "cell_type": "code",
   "execution_count": 8,
   "id": "c3e47185-6394-4292-b784-a952811345cc",
   "metadata": {},
   "outputs": [
    {
     "name": "stdin",
     "output_type": "stream",
     "text": [
      "enter the a values: 30\n",
      "enter the b values: 20\n"
     ]
    },
    {
     "name": "stdout",
     "output_type": "stream",
     "text": [
      "a>=b is: True\n"
     ]
    }
   ],
   "source": [
    "a=int(input(\"enter the a values:\"))\n",
    "b=int(input(\"enter the b values:\"))\n",
    "c=a>=b\n",
    "print(\"a>=b is:\",c)"
   ]
  },
  {
   "cell_type": "code",
   "execution_count": 9,
   "id": "560d7a6d-61ca-46db-8672-fc57f88804de",
   "metadata": {},
   "outputs": [
    {
     "name": "stdin",
     "output_type": "stream",
     "text": [
      "enter the a values: 20\n",
      "enter the b values: 30\n"
     ]
    },
    {
     "name": "stdout",
     "output_type": "stream",
     "text": [
      "a<=b is: True\n"
     ]
    }
   ],
   "source": [
    "a=int(input(\"enter the a values:\"))\n",
    "b=int(input(\"enter the b values:\"))\n",
    "c=a<=b\n",
    "print(\"a<=b is:\",c)"
   ]
  },
  {
   "cell_type": "code",
   "execution_count": 11,
   "id": "b7f5ada9-2033-492d-9458-fda7c886bc93",
   "metadata": {},
   "outputs": [
    {
     "name": "stdin",
     "output_type": "stream",
     "text": [
      "enter the value: 4\n"
     ]
    },
    {
     "name": "stdout",
     "output_type": "stream",
     "text": [
      "True\n"
     ]
    }
   ],
   "source": [
    "x= int(input(\"enter the value:\"))\n",
    "print(x>3 and x<5)"
   ]
  },
  {
   "cell_type": "code",
   "execution_count": 14,
   "id": "1782a3a4-7d02-42c7-8fcd-928640001266",
   "metadata": {},
   "outputs": [
    {
     "name": "stdin",
     "output_type": "stream",
     "text": [
      "enter the x value: 1\n"
     ]
    },
    {
     "name": "stdout",
     "output_type": "stream",
     "text": [
      "True\n"
     ]
    }
   ],
   "source": [
    "x=int(input(\"enter the x value:\"))\n",
    "print(x>3 or x<5)"
   ]
  },
  {
   "cell_type": "code",
   "execution_count": 15,
   "id": "29fbadc5-9dae-4c65-8eab-18f5dc77980c",
   "metadata": {},
   "outputs": [
    {
     "name": "stdin",
     "output_type": "stream",
     "text": [
      "enter the x value: 4\n"
     ]
    }
   ],
   "source": []
  },
  {
   "cell_type": "code",
   "execution_count": 16,
   "id": "1198436a-4fc5-4e44-a9ba-7f1c34c138a4",
   "metadata": {},
   "outputs": [
    {
     "name": "stdin",
     "output_type": "stream",
     "text": [
      "enter the x value: 4\n"
     ]
    },
    {
     "name": "stdout",
     "output_type": "stream",
     "text": [
      "False\n"
     ]
    }
   ],
   "source": [
    "x = int(input(\"enter the x value:\"))\n",
    "print(not(x>3 and x<5))"
   ]
  },
  {
   "cell_type": "code",
   "execution_count": 17,
   "id": "154eab2f-65e3-4800-8f97-8a15eb56f55b",
   "metadata": {},
   "outputs": [
    {
     "name": "stdin",
     "output_type": "stream",
     "text": [
      "enter the x value: 21\n"
     ]
    },
    {
     "name": "stdout",
     "output_type": "stream",
     "text": [
      "True\n"
     ]
    }
   ],
   "source": [
    "x = int(input(\"enter the x value:\"))\n",
    "print(not(x>3 and x<5))"
   ]
  },
  {
   "cell_type": "code",
   "execution_count": 18,
   "id": "12de2925-08b4-4baa-87e8-a165fee4e24a",
   "metadata": {},
   "outputs": [
    {
     "name": "stdin",
     "output_type": "stream",
     "text": [
      "enter the a value: 10\n",
      "enter the b value: 4\n"
     ]
    },
    {
     "name": "stdout",
     "output_type": "stream",
     "text": [
      "a&b= 0\n"
     ]
    }
   ],
   "source": [
    "a=int(input(\"enter the a value:\"))\n",
    "b=int(input(\"enter the b value:\"))\n",
    "c=a&b\n",
    "print(\"a&b=\",c)"
   ]
  },
  {
   "cell_type": "code",
   "execution_count": 19,
   "id": "7ad2506c-930d-4d10-a5e0-043cfd7e9485",
   "metadata": {},
   "outputs": [
    {
     "name": "stdin",
     "output_type": "stream",
     "text": [
      "enter the a value: 200\n",
      "enter the b value: 201\n"
     ]
    },
    {
     "name": "stdout",
     "output_type": "stream",
     "text": [
      "a&b= 200\n"
     ]
    }
   ],
   "source": [
    "a=int(input(\"enter the a value:\"))\n",
    "b=int(input(\"enter the b value:\"))\n",
    "c=a&b\n",
    "print(\"a&b=\",c)"
   ]
  },
  {
   "cell_type": "code",
   "execution_count": 20,
   "id": "4cd2d339-56a3-42d3-beeb-93a7396a64e6",
   "metadata": {
    "scrolled": true
   },
   "outputs": [
    {
     "name": "stdin",
     "output_type": "stream",
     "text": [
      "enter the a value: 100\n",
      "enter the b value: 20\n"
     ]
    },
    {
     "name": "stdout",
     "output_type": "stream",
     "text": [
      "a&b= 4\n"
     ]
    }
   ],
   "source": [
    "a=int(input(\"enter the a value:\"))\n",
    "b=int(input(\"enter the b value:\"))\n",
    "c=a&b\n",
    "print(\"a&b=\",c)"
   ]
  },
  {
   "cell_type": "code",
   "execution_count": 22,
   "id": "d40a5ded-aad5-4497-9111-b4f45551f6df",
   "metadata": {},
   "outputs": [
    {
     "name": "stdin",
     "output_type": "stream",
     "text": [
      "enter the a value: 10\n",
      "enter the b value: 4\n"
     ]
    },
    {
     "name": "stdout",
     "output_type": "stream",
     "text": [
      "a^b= 14\n"
     ]
    }
   ],
   "source": [
    "a = int(input(\"enter the a value:\"))\n",
    "b = int(input(\"enter the b value:\"))\n",
    "c = a^b\n",
    "print(\"a^b=\",c)"
   ]
  },
  {
   "cell_type": "code",
   "execution_count": 23,
   "id": "6a5a1405-8569-409e-8fc9-7297c66a14d5",
   "metadata": {},
   "outputs": [
    {
     "name": "stdin",
     "output_type": "stream",
     "text": [
      "enter the x value: 10\n"
     ]
    },
    {
     "name": "stdout",
     "output_type": "stream",
     "text": [
      "x: -11\n"
     ]
    }
   ],
   "source": [
    "x = int(input(\"enter the x value:\"))\n",
    "c = ~x\n",
    "print(\"x:\",c)"
   ]
  },
  {
   "cell_type": "code",
   "execution_count": 1,
   "id": "7f9a0779-c728-4da8-8f43-a2c8b5b80c6f",
   "metadata": {},
   "outputs": [
    {
     "name": "stdin",
     "output_type": "stream",
     "text": [
      "enter the x value 10\n"
     ]
    },
    {
     "name": "stdout",
     "output_type": "stream",
     "text": [
      "the value of x<<2 is 40\n"
     ]
    }
   ],
   "source": [
    "x = int(input(\"enter the x value\"))\n",
    "c = x<<2\n",
    "print(\"the value of x<<2 is\",c)"
   ]
  },
  {
   "cell_type": "code",
   "execution_count": 2,
   "id": "7dd59d69-bcbd-46ed-b1df-3ad97a75c2d8",
   "metadata": {},
   "outputs": [
    {
     "name": "stdin",
     "output_type": "stream",
     "text": [
      "enter the x value 10\n"
     ]
    },
    {
     "name": "stdout",
     "output_type": "stream",
     "text": [
      "the value of x>>2 is 2\n"
     ]
    }
   ],
   "source": [
    "x = int(input(\"enter the x value\"))\n",
    "c = x>>2\n",
    "print(\"the value of x>>2 is\",c)"
   ]
  },
  {
   "cell_type": "code",
   "execution_count": 3,
   "id": "2c4c049d-9b27-4549-815f-327020c5c735",
   "metadata": {},
   "outputs": [
    {
     "name": "stdin",
     "output_type": "stream",
     "text": [
      "enter the x value 10\n"
     ]
    },
    {
     "name": "stdout",
     "output_type": "stream",
     "text": [
      "the value of ~x is -11\n"
     ]
    }
   ],
   "source": [
    "x = int(input(\"enter the x value\"))\n",
    "c = ~x\n",
    "print(\"the value of ~x is\",c)"
   ]
  },
  {
   "cell_type": "code",
   "execution_count": 4,
   "id": "23865467-2ebb-4ebb-abb4-4e79fe93191c",
   "metadata": {},
   "outputs": [
    {
     "name": "stdin",
     "output_type": "stream",
     "text": [
      "enter the x value 10\n"
     ]
    },
    {
     "name": "stdout",
     "output_type": "stream",
     "text": [
      "the value of x>>2 is 1\n"
     ]
    }
   ],
   "source": [
    "x = int(input(\"enter the x value\"))\n",
    "c = x>>3\n",
    "print(\"the value of x>>2 is\",c)"
   ]
  },
  {
   "cell_type": "code",
   "execution_count": 15,
   "id": "fe3baee2-1191-4ffb-99c4-a1c9186dde57",
   "metadata": {},
   "outputs": [
    {
     "name": "stdin",
     "output_type": "stream",
     "text": [
      "enter the x value: 6\n",
      "enter the y value: 6\n"
     ]
    },
    {
     "name": "stdout",
     "output_type": "stream",
     "text": [
      "True\n"
     ]
    }
   ],
   "source": [
    "x=int(input(\"enter the x value:\"))\n",
    "y=int(input(\"enter the y value:\"))\n",
    "print(x is y)"
   ]
  },
  {
   "cell_type": "code",
   "execution_count": 17,
   "id": "89c30837-2b88-4ad2-9e6f-a777bd8e5f2b",
   "metadata": {},
   "outputs": [
    {
     "name": "stdout",
     "output_type": "stream",
     "text": [
      "False\n",
      "True\n"
     ]
    }
   ],
   "source": [
    "x = [\"apple\",20,\"banana\"]\n",
    "print(\"mango\" in x)\n",
    "print(20 in x)"
   ]
  },
  {
   "cell_type": "code",
   "execution_count": 19,
   "id": "1f6cc994-14fc-48f5-a551-5782db09dba5",
   "metadata": {},
   "outputs": [
    {
     "name": "stdout",
     "output_type": "stream",
     "text": [
      "True\n",
      "False\n"
     ]
    }
   ],
   "source": [
    "x = [\"apple\",20,\"banana\"]\n",
    "print(\"mango\" not in x)\n",
    "print(20 not in x)"
   ]
  },
  {
   "cell_type": "code",
   "execution_count": 24,
   "id": "6abd009e-13fa-4066-9a96-122854916e0b",
   "metadata": {},
   "outputs": [
    {
     "name": "stdin",
     "output_type": "stream",
     "text": [
      "enter the x value: 4\n"
     ]
    },
    {
     "name": "stdout",
     "output_type": "stream",
     "text": [
      "good night\n"
     ]
    }
   ],
   "source": [
    "x=int(input(\"enter the x value:\"))\n",
    "if x>20:\n",
    "   print(\"hello good evening\")\n",
    "else:\n",
    "   print(\"good night\")"
   ]
  },
  {
   "cell_type": "code",
   "execution_count": null,
   "id": "9a35d44e-4f13-469b-821c-7efa31013577",
   "metadata": {},
   "outputs": [],
   "source": []
  }
 ],
 "metadata": {
  "kernelspec": {
   "display_name": "Python 3 (ipykernel)",
   "language": "python",
   "name": "python3"
  },
  "language_info": {
   "codemirror_mode": {
    "name": "ipython",
    "version": 3
   },
   "file_extension": ".py",
   "mimetype": "text/x-python",
   "name": "python",
   "nbconvert_exporter": "python",
   "pygments_lexer": "ipython3",
   "version": "3.11.5"
  }
 },
 "nbformat": 4,
 "nbformat_minor": 5
}
