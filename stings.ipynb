{
 "cells": [
  {
   "cell_type": "code",
   "execution_count": 2,
   "metadata": {},
   "outputs": [
    {
     "name": "stdout",
     "output_type": "stream",
     "text": [
      "hello\n",
      "hello\n",
      "hello\n",
      "hello, welcome to the world of python\n"
     ]
    }
   ],
   "source": [
    "my_string='hello'\n",
    "print(my_string)\n",
    "my_string=\"hello\"\n",
    "print(my_string)\n",
    "my_string='''hello'''\n",
    "print(my_string)\n",
    "my_string='''hello, welcome to the world of python'''\n",
    "print(my_string)"
   ]
  },
  {
   "cell_type": "code",
   "execution_count": 4,
   "metadata": {},
   "outputs": [
    {
     "name": "stdout",
     "output_type": "stream",
     "text": [
      "derab\n"
     ]
    }
   ],
   "source": [
    "x = \"hyderabad\"\n",
    "print(x[2:7])"
   ]
  },
  {
   "cell_type": "code",
   "execution_count": 17,
   "metadata": {},
   "outputs": [
    {
     "name": "stdout",
     "output_type": "stream",
     "text": [
      "bhopal\n"
     ]
    }
   ],
   "source": [
    "city = \"bhopal\"\n",
    "print(city)"
   ]
  },
  {
   "cell_type": "code",
   "execution_count": 14,
   "metadata": {},
   "outputs": [
    {
     "name": "stdout",
     "output_type": "stream",
     "text": [
      "B\n",
      "h\n",
      "l\n",
      "a\n"
     ]
    }
   ],
   "source": [
    "city = \"Bhopal\"\n",
    "print(city[0])\n",
    "print(city[1])\n",
    "print(city[-1])\n",
    "print(city[-2])"
   ]
  },
  {
   "cell_type": "code",
   "execution_count": 22,
   "metadata": {},
   "outputs": [
    {
     "name": "stdout",
     "output_type": "stream",
     "text": [
      "d\n",
      "a\n",
      "b\n",
      "a\n",
      "r\n",
      "e\n",
      "d\n",
      "y\n",
      "h\n"
     ]
    }
   ],
   "source": [
    "city = \"hyderabad\"\n",
    "for i in range (len(city)-1,-1,-1):\n",
    "    print(city[i])"
   ]
  },
  {
   "cell_type": "code",
   "execution_count": 23,
   "metadata": {},
   "outputs": [
    {
     "name": "stdout",
     "output_type": "stream",
     "text": [
      "Bhop\n"
     ]
    }
   ],
   "source": [
    "city = \"Bhopal\"\n",
    "print(city[:-2])"
   ]
  },
  {
   "cell_type": "code",
   "execution_count": 28,
   "metadata": {},
   "outputs": [
    {
     "name": "stdout",
     "output_type": "stream",
     "text": [
      "al\n"
     ]
    }
   ],
   "source": [
    "city = \"Bhopal\"\n",
    "print(city[-2:])"
   ]
  },
  {
   "cell_type": "code",
   "execution_count": 31,
   "metadata": {},
   "outputs": [
    {
     "name": "stdout",
     "output_type": "stream",
     "text": [
      "yeaa\n"
     ]
    }
   ],
   "source": [
    "city = \"Hyderabad\"\n",
    "print(city[1:8:2])"
   ]
  },
  {
   "cell_type": "code",
   "execution_count": 32,
   "metadata": {},
   "outputs": [
    {
     "name": "stdout",
     "output_type": "stream",
     "text": [
      "hp\n"
     ]
    }
   ],
   "source": [
    "city=\"bhopal\"\n",
    "print(city[1:4:2])"
   ]
  },
  {
   "cell_type": "code",
   "execution_count": 35,
   "metadata": {},
   "outputs": [
    {
     "name": "stdout",
     "output_type": "stream",
     "text": [
      "good morning user\n"
     ]
    }
   ],
   "source": [
    "a = \"good \"\n",
    "b = \"morning \"\n",
    "c = \"user\"\n",
    "print (a + b + c)"
   ]
  },
  {
   "cell_type": "code",
   "execution_count": 36,
   "metadata": {},
   "outputs": [
    {
     "name": "stdout",
     "output_type": "stream",
     "text": [
      "byebye\n",
      "byebye\n"
     ]
    }
   ],
   "source": [
    "a = \"bye\"\n",
    "print(a*2)\n",
    "print(a*2)"
   ]
  },
  {
   "cell_type": "code",
   "execution_count": null,
   "metadata": {},
   "outputs": [],
   "source": []
  }
 ],
 "metadata": {
  "kernelspec": {
   "display_name": "base",
   "language": "python",
   "name": "python3"
  },
  "language_info": {
   "codemirror_mode": {
    "name": "ipython",
    "version": 3
   },
   "file_extension": ".py",
   "mimetype": "text/x-python",
   "name": "python",
   "nbconvert_exporter": "python",
   "pygments_lexer": "ipython3",
   "version": "3.11.5"
  }
 },
 "nbformat": 4,
 "nbformat_minor": 2
}
