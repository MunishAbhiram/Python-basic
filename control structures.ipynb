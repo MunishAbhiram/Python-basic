{
 "cells": [
  {
   "cell_type": "code",
   "execution_count": 3,
   "metadata": {},
   "outputs": [
    {
     "name": "stdout",
     "output_type": "stream",
     "text": [
      "this is an even number\n"
     ]
    }
   ],
   "source": [
    "a=int(input(\"enter the number:\"))\n",
    "if a%2==0:\n",
    "   print(\"this is an even number\")\n",
    "else:\n",
    "   print(\"this is an odd number\")"
   ]
  },
  {
   "cell_type": "code",
   "execution_count": 4,
   "metadata": {},
   "outputs": [
    {
     "name": "stdout",
     "output_type": "stream",
     "text": [
      "the second number is greater than the first number\n"
     ]
    }
   ],
   "source": [
    "a=int(input(\"enter the first number:\"))\n",
    "b=int(input(\"enter the second number:\"))\n",
    "if a>b:\n",
    "   print(\"the first number is greater than the second number\")\n",
    "else:\n",
    "   print(\"the second number is greater than the first number\")"
   ]
  },
  {
   "cell_type": "code",
   "execution_count": 13,
   "metadata": {},
   "outputs": [
    {
     "name": "stdout",
     "output_type": "stream",
     "text": [
      "you have entered some symbol\n"
     ]
    }
   ],
   "source": [
    "ch=input(\"enter a character:\")\n",
    "if \"A\"<=ch<=\"Z\":\n",
    "   print(\"you have entered a capital letter\")\n",
    "elif \"a\"<=ch <= \"z\":\n",
    "     print(\"you have entered a small letter\")\n",
    "elif \"1\" <=ch <= \"100000\":\n",
    "     print(\"you have entered a number\")\n",
    "else:\n",
    "     print(\"you have entered some symbol\")"
   ]
  },
  {
   "cell_type": "code",
   "execution_count": 14,
   "metadata": {},
   "outputs": [
    {
     "name": "stdout",
     "output_type": "stream",
     "text": [
      "c is the greatest number\n"
     ]
    }
   ],
   "source": [
    "a=int(input(\"enter the a value:\"))\n",
    "b=int(input(\"enter the b value:\"))\n",
    "c=int(input(\"enter the c value:\"))\n",
    "if a>b:\n",
    " if a>c:\n",
    "    print(\"a is the greatest number\")\n",
    "if b>c:\n",
    " if b>a:\n",
    "    print(\"b is the greatest number\")\n",
    "else:\n",
    "  print(\"c is the greatest number\")\n",
    "     "
   ]
  },
  {
   "cell_type": "code",
   "execution_count": null,
   "metadata": {},
   "outputs": [],
   "source": []
  }
 ],
 "metadata": {
  "kernelspec": {
   "display_name": "base",
   "language": "python",
   "name": "python3"
  },
  "language_info": {
   "codemirror_mode": {
    "name": "ipython",
    "version": 3
   },
   "file_extension": ".py",
   "mimetype": "text/x-python",
   "name": "python",
   "nbconvert_exporter": "python",
   "pygments_lexer": "ipython3",
   "version": "3.11.5"
  }
 },
 "nbformat": 4,
 "nbformat_minor": 2
}
