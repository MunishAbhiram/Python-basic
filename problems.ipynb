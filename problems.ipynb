{
 "cells": [
  {
   "cell_type": "code",
   "execution_count": 4,
   "metadata": {},
   "outputs": [],
   "source": [
    "def addition(a,b):\n",
    "    return(a+b)"
   ]
  },
  {
   "cell_type": "code",
   "execution_count": 4,
   "metadata": {},
   "outputs": [
    {
     "name": "stdout",
     "output_type": "stream",
     "text": [
      "750.0\n"
     ]
    }
   ],
   "source": [
    "def dis(price, discount):\n",
    "\tdiscount_amount = price * (discount/100)\n",
    "\tdiscounted_price= price - discount_amount\n",
    "\treturn discounted_price\n",
    "print (dis(1500,50))"
   ]
  },
  {
   "cell_type": "code",
   "execution_count": 9,
   "metadata": {},
   "outputs": [
    {
     "name": "stdout",
     "output_type": "stream",
     "text": [
      "(22, 'ohms')\n"
     ]
    }
   ],
   "source": [
    "def series_resistance(lst):\n",
    "\tRT = sum(lst)\n",
    "\tif RT >=1:\n",
    "\t   return (RT,'ohms')\n",
    "\telse:\n",
    "\t   return (RT,'ohm')\n",
    "print (series_resistance([20,2]))"
   ]
  },
  {
   "cell_type": "code",
   "execution_count": 13,
   "metadata": {},
   "outputs": [
    {
     "name": "stdout",
     "output_type": "stream",
     "text": [
      "0.42000000000000004 ohm\n"
     ]
    }
   ],
   "source": [
    "def series_resistance(lst):\n",
    "    RT = sum(lst)\n",
    "    if RT >= 1:\n",
    "        return f\"{RT} ohms\"\n",
    "    else:\n",
    "        return f\"{RT} ohm\"\n",
    "print (series_resistance([0.2,0.22]))"
   ]
  },
  {
   "cell_type": "code",
   "execution_count": 7,
   "metadata": {},
   "outputs": [],
   "source": [
    "def damage(damage,speed,time):\n",
    "    if time == \"second\":\n",
    "        dmg = damage * speed\n",
    "        print(dmg)\n",
    "    elif time == \"minute\":\n",
    "        dmg = damage * speed * 60\n",
    "        print (dmg)\n",
    "    elif time == \"hour\":\n",
    "        dmg = damage * speed * 3600\n",
    "        print(dmg)\n",
    "\n",
    " "
   ]
  },
  {
   "cell_type": "code",
   "execution_count": 12,
   "metadata": {},
   "outputs": [
    {
     "name": "stdout",
     "output_type": "stream",
     "text": [
      "[2, 4, 6, 8]\n"
     ]
    }
   ],
   "source": [
    "def find_even_nums(num):\n",
    "\treturn [x for x in range (2, num+1,2)]\n",
    "print(find_even_nums(8))"
   ]
  },
  {
   "cell_type": "code",
   "execution_count": 18,
   "metadata": {},
   "outputs": [
    {
     "name": "stdout",
     "output_type": "stream",
     "text": [
      "p1\n",
      "None\n"
     ]
    }
   ],
   "source": [
    "def showdown(p1,p2):\n",
    "    if p1.index(\"B\") < p2.index(\"B\"):\n",
    "        print(\"p1\")\n",
    "    elif p1.index(\"B\") > p2.index(\"B\"):\n",
    "        print(\"p2\")\n",
    "    else:\n",
    "        print(\"tie\")\n",
    "print (showdown(\"       Bang!\", \"                  Bang!     \"))"
   ]
  },
  {
   "cell_type": "code",
   "execution_count": 19,
   "metadata": {},
   "outputs": [
    {
     "data": {
      "text/plain": [
       "6"
      ]
     },
     "execution_count": 19,
     "metadata": {},
     "output_type": "execute_result"
    }
   ],
   "source": [
    "list = [2,2,2,2,2,2,1]\n",
    "list.count(2)"
   ]
  },
  {
   "cell_type": "code",
   "execution_count": 36,
   "metadata": {},
   "outputs": [
    {
     "name": "stdout",
     "output_type": "stream",
     "text": [
      "1.0\n"
     ]
    },
    {
     "data": {
      "text/plain": [
       "0.0"
      ]
     },
     "execution_count": 36,
     "metadata": {},
     "output_type": "execute_result"
    }
   ],
   "source": [
    "def quadratic_equation(a, b, c):\n",
    "\troot = (-b + (b*b - (4*a*c))**0.5)/2*a\n",
    "\treturn (root)\n",
    "print (quadratic_equation(1,2,-3))\n",
    "result = quadratic_equation(1,2,-3)\n",
    "round(result,-1)"
   ]
  },
  {
   "cell_type": "code",
   "execution_count": null,
   "metadata": {},
   "outputs": [],
   "source": []
  }
 ],
 "metadata": {
  "kernelspec": {
   "display_name": "base",
   "language": "python",
   "name": "python3"
  },
  "language_info": {
   "codemirror_mode": {
    "name": "ipython",
    "version": 3
   },
   "file_extension": ".py",
   "mimetype": "text/x-python",
   "name": "python",
   "nbconvert_exporter": "python",
   "pygments_lexer": "ipython3",
   "version": "3.11.5"
  }
 },
 "nbformat": 4,
 "nbformat_minor": 2
}
