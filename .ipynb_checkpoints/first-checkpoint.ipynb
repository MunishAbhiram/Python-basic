{
 "cells": [
  {
   "cell_type": "code",
   "execution_count": 1,
   "id": "b570890e",
   "metadata": {},
   "outputs": [
    {
     "data": {
      "text/plain": [
       "4"
      ]
     },
     "execution_count": 1,
     "metadata": {},
     "output_type": "execute_result"
    }
   ],
   "source": [
    "2+2"
   ]
  },
  {
   "cell_type": "code",
   "execution_count": 2,
   "id": "86bca733",
   "metadata": {},
   "outputs": [
    {
     "data": {
      "text/plain": [
       "0"
      ]
     },
     "execution_count": 2,
     "metadata": {},
     "output_type": "execute_result"
    }
   ],
   "source": [
    "1-1"
   ]
  },
  {
   "cell_type": "code",
   "execution_count": 9,
   "id": "c737b1fd",
   "metadata": {},
   "outputs": [
    {
     "name": "stdout",
     "output_type": "stream",
     "text": [
      "hello world\n"
     ]
    }
   ],
   "source": [
    "print (\"hello world\")"
   ]
  },
  {
   "cell_type": "code",
   "execution_count": 10,
   "id": "26f3f25a",
   "metadata": {},
   "outputs": [
    {
     "name": "stdout",
     "output_type": "stream",
     "text": [
      "eee\n"
     ]
    }
   ],
   "source": [
    "print ('eee')"
   ]
  },
  {
   "cell_type": "markdown",
   "id": "eca4e44d",
   "metadata": {},
   "source": [
    "normal text"
   ]
  },
  {
   "cell_type": "code",
   "execution_count": 11,
   "id": "ff78c3c5",
   "metadata": {},
   "outputs": [
    {
     "data": {
      "text/plain": [
       "1"
      ]
     },
     "execution_count": 11,
     "metadata": {},
     "output_type": "execute_result"
    }
   ],
   "source": [
    "25%3"
   ]
  },
  {
   "cell_type": "code",
   "execution_count": 12,
   "id": "e208f5d6",
   "metadata": {},
   "outputs": [
    {
     "data": {
      "text/plain": [
       "2"
      ]
     },
     "execution_count": 12,
     "metadata": {},
     "output_type": "execute_result"
    }
   ],
   "source": [
    "26%3"
   ]
  },
  {
   "cell_type": "code",
   "execution_count": 13,
   "id": "fd231a4c",
   "metadata": {},
   "outputs": [
    {
     "data": {
      "text/plain": [
       "8"
      ]
     },
     "execution_count": 13,
     "metadata": {},
     "output_type": "execute_result"
    }
   ],
   "source": [
    "25//3"
   ]
  },
  {
   "cell_type": "code",
   "execution_count": 14,
   "id": "533f0076",
   "metadata": {},
   "outputs": [
    {
     "data": {
      "text/plain": [
       "8.333333333333334"
      ]
     },
     "execution_count": 14,
     "metadata": {},
     "output_type": "execute_result"
    }
   ],
   "source": [
    "25/3"
   ]
  },
  {
   "cell_type": "code",
   "execution_count": null,
   "id": "bd3ee6f4",
   "metadata": {},
   "outputs": [],
   "source": []
  }
 ],
 "metadata": {
  "kernelspec": {
   "display_name": "Python 3 (ipykernel)",
   "language": "python",
   "name": "python3"
  },
  "language_info": {
   "codemirror_mode": {
    "name": "ipython",
    "version": 3
   },
   "file_extension": ".py",
   "mimetype": "text/x-python",
   "name": "python",
   "nbconvert_exporter": "python",
   "pygments_lexer": "ipython3",
   "version": "3.11.5"
  }
 },
 "nbformat": 4,
 "nbformat_minor": 5
}
