{
 "cells": [
  {
   "cell_type": "code",
   "execution_count": 1,
   "id": "d053e147-1840-4cb9-a660-7e1ebef3c1ca",
   "metadata": {},
   "outputs": [],
   "source": [
    "a = 2"
   ]
  },
  {
   "cell_type": "code",
   "execution_count": 2,
   "id": "f574b65d-6b95-4506-8402-828ad39fe662",
   "metadata": {},
   "outputs": [],
   "source": [
    "b = 3"
   ]
  },
  {
   "cell_type": "code",
   "execution_count": 3,
   "id": "53e65543-7a94-435a-bbf6-a275ff8e775b",
   "metadata": {},
   "outputs": [
    {
     "data": {
      "text/plain": [
       "5"
      ]
     },
     "execution_count": 3,
     "metadata": {},
     "output_type": "execute_result"
    }
   ],
   "source": [
    "a + b"
   ]
  },
  {
   "cell_type": "code",
   "execution_count": 4,
   "id": "423cc932-b96f-40ae-b244-ff8d71bb75d7",
   "metadata": {},
   "outputs": [
    {
     "data": {
      "text/plain": [
       "2"
      ]
     },
     "execution_count": 4,
     "metadata": {},
     "output_type": "execute_result"
    }
   ],
   "source": [
    "a"
   ]
  },
  {
   "cell_type": "code",
   "execution_count": 5,
   "id": "78c133b9-ec2a-4b98-bd9d-e1413874519f",
   "metadata": {},
   "outputs": [],
   "source": [
    "a = 4"
   ]
  },
  {
   "cell_type": "code",
   "execution_count": 6,
   "id": "00aa07f8-48e9-4217-bd5b-502d3a72574d",
   "metadata": {},
   "outputs": [],
   "source": [
    "a=b"
   ]
  },
  {
   "cell_type": "code",
   "execution_count": 7,
   "id": "b298a62d-9862-4a0f-9c53-8306e5700e4b",
   "metadata": {},
   "outputs": [
    {
     "data": {
      "text/plain": [
       "6"
      ]
     },
     "execution_count": 7,
     "metadata": {},
     "output_type": "execute_result"
    }
   ],
   "source": [
    "a+b"
   ]
  },
  {
   "cell_type": "code",
   "execution_count": 8,
   "id": "e763a025-268a-46b4-8c57-d9e54415545a",
   "metadata": {},
   "outputs": [
    {
     "data": {
      "text/plain": [
       "3"
      ]
     },
     "execution_count": 8,
     "metadata": {},
     "output_type": "execute_result"
    }
   ],
   "source": [
    "a"
   ]
  },
  {
   "cell_type": "code",
   "execution_count": 9,
   "id": "096e6503-aa21-45e5-90ad-64ca7453f5c9",
   "metadata": {},
   "outputs": [],
   "source": [
    "a=4"
   ]
  },
  {
   "cell_type": "code",
   "execution_count": 10,
   "id": "f5d028e4-a0b9-4e09-bd2d-39c6c63ab958",
   "metadata": {},
   "outputs": [
    {
     "data": {
      "text/plain": [
       "7"
      ]
     },
     "execution_count": 10,
     "metadata": {},
     "output_type": "execute_result"
    }
   ],
   "source": [
    "a+b"
   ]
  },
  {
   "cell_type": "code",
   "execution_count": 11,
   "id": "1d68c3f3-60f1-4db4-99cf-bb8e4a4a0794",
   "metadata": {},
   "outputs": [
    {
     "data": {
      "text/plain": [
       "int"
      ]
     },
     "execution_count": 11,
     "metadata": {},
     "output_type": "execute_result"
    }
   ],
   "source": [
    "type (a)"
   ]
  },
  {
   "cell_type": "code",
   "execution_count": 12,
   "id": "8152e1b0-0d5f-4c8e-8458-f244d8db51c7",
   "metadata": {},
   "outputs": [],
   "source": [
    "a = 332.3"
   ]
  },
  {
   "cell_type": "code",
   "execution_count": 13,
   "id": "796ebe09-e13c-448e-9a7a-419eb60405aa",
   "metadata": {},
   "outputs": [
    {
     "data": {
      "text/plain": [
       "332.3"
      ]
     },
     "execution_count": 13,
     "metadata": {},
     "output_type": "execute_result"
    }
   ],
   "source": [
    "a"
   ]
  },
  {
   "cell_type": "code",
   "execution_count": 14,
   "id": "55b84c72-21b6-4543-a66e-e6831e41be38",
   "metadata": {},
   "outputs": [
    {
     "data": {
      "text/plain": [
       "float"
      ]
     },
     "execution_count": 14,
     "metadata": {},
     "output_type": "execute_result"
    }
   ],
   "source": [
    "type (a)"
   ]
  },
  {
   "cell_type": "code",
   "execution_count": 15,
   "id": "6a0b55e4-60b9-4022-b1ab-56f335b3e91f",
   "metadata": {},
   "outputs": [],
   "source": [
    "math_marks = 90\n",
    "science_marks = 80"
   ]
  },
  {
   "cell_type": "code",
   "execution_count": 16,
   "id": "8bc115cc-3a91-44d3-90e8-f6c90f94cff9",
   "metadata": {},
   "outputs": [],
   "source": [
    "total_marks = math_marks + science_marks"
   ]
  },
  {
   "cell_type": "code",
   "execution_count": 17,
   "id": "d7440fa1-068c-4f46-ad1a-44d856b2ea09",
   "metadata": {},
   "outputs": [
    {
     "data": {
      "text/plain": [
       "170"
      ]
     },
     "execution_count": 17,
     "metadata": {},
     "output_type": "execute_result"
    }
   ],
   "source": [
    "total_marks"
   ]
  },
  {
   "cell_type": "code",
   "execution_count": 18,
   "id": "7528caaa-6e2d-4fe6-b073-983c87a63e10",
   "metadata": {},
   "outputs": [],
   "source": [
    "principal_amount = 2000\n",
    "rate = 5\n",
    "time = 2\n",
    "simple_interest = (principal_amount * rate * time)/100"
   ]
  },
  {
   "cell_type": "code",
   "execution_count": 19,
   "id": "d03234e4-1b49-4d99-a259-215ee2c4dbe8",
   "metadata": {},
   "outputs": [
    {
     "data": {
      "text/plain": [
       "200.0"
      ]
     },
     "execution_count": 19,
     "metadata": {},
     "output_type": "execute_result"
    }
   ],
   "source": [
    "simple_interest"
   ]
  },
  {
   "cell_type": "code",
   "execution_count": null,
   "id": "f07e977e-ac38-4a7d-b54c-72b0b81e7190",
   "metadata": {},
   "outputs": [],
   "source": []
  }
 ],
 "metadata": {
  "kernelspec": {
   "display_name": "Python 3 (ipykernel)",
   "language": "python",
   "name": "python3"
  },
  "language_info": {
   "codemirror_mode": {
    "name": "ipython",
    "version": 3
   },
   "file_extension": ".py",
   "mimetype": "text/x-python",
   "name": "python",
   "nbconvert_exporter": "python",
   "pygments_lexer": "ipython3",
   "version": "3.11.5"
  }
 },
 "nbformat": 4,
 "nbformat_minor": 5
}
