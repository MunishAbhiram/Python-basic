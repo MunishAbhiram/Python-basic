{
 "cells": [
  {
   "cell_type": "code",
   "execution_count": 8,
   "id": "e5969096-be8a-430e-9fff-1deeafacdf32",
   "metadata": {},
   "outputs": [],
   "source": [
    "my_list = [1,2,3,\"eight\",32,123,435]"
   ]
  },
  {
   "cell_type": "code",
   "execution_count": 9,
   "id": "2ce66aaa-7d7a-4b51-858d-b457726f12ce",
   "metadata": {},
   "outputs": [
    {
     "data": {
      "text/plain": [
       "[1, 2, 3, 'eight', 32, 123, 435]"
      ]
     },
     "execution_count": 9,
     "metadata": {},
     "output_type": "execute_result"
    }
   ],
   "source": [
    "my_list"
   ]
  },
  {
   "cell_type": "code",
   "execution_count": 10,
   "id": "423288a6-0eb4-4f46-aa7e-d8d0801e0635",
   "metadata": {},
   "outputs": [
    {
     "data": {
      "text/plain": [
       "2"
      ]
     },
     "execution_count": 10,
     "metadata": {},
     "output_type": "execute_result"
    }
   ],
   "source": [
    "my_list[1]"
   ]
  },
  {
   "cell_type": "code",
   "execution_count": 11,
   "id": "ef644196-d38e-41ba-9ef1-788f4766901a",
   "metadata": {},
   "outputs": [
    {
     "data": {
      "text/plain": [
       "7"
      ]
     },
     "execution_count": 11,
     "metadata": {},
     "output_type": "execute_result"
    }
   ],
   "source": [
    "len(my_list)"
   ]
  },
  {
   "cell_type": "code",
   "execution_count": 13,
   "id": "355694b2-43fb-41be-b0d9-41011177e7c2",
   "metadata": {},
   "outputs": [
    {
     "data": {
      "text/plain": [
       "[2, 3, 'eight', 32]"
      ]
     },
     "execution_count": 13,
     "metadata": {},
     "output_type": "execute_result"
    }
   ],
   "source": [
    "my_list[1:5]"
   ]
  },
  {
   "cell_type": "code",
   "execution_count": 14,
   "id": "c8d0da47-50a3-4f84-82df-ef7174a6c0cc",
   "metadata": {},
   "outputs": [
    {
     "data": {
      "text/plain": [
       "[2, 3, 'eight', 32, 123, 435]"
      ]
     },
     "execution_count": 14,
     "metadata": {},
     "output_type": "execute_result"
    }
   ],
   "source": [
    "my_list[1:]"
   ]
  },
  {
   "cell_type": "code",
   "execution_count": 15,
   "id": "f42f18d3-005f-44d6-a4f0-37568052a43f",
   "metadata": {},
   "outputs": [
    {
     "data": {
      "text/plain": [
       "[1, 2, 3, 'eight', 32, 123, 435]"
      ]
     },
     "execution_count": 15,
     "metadata": {},
     "output_type": "execute_result"
    }
   ],
   "source": [
    "my_list[:8]"
   ]
  },
  {
   "cell_type": "code",
   "execution_count": 18,
   "id": "623c5291-ba7b-4f82-a5c2-8cae7f32beec",
   "metadata": {},
   "outputs": [
    {
     "data": {
      "text/plain": [
       "[1, 2, 3, 'eight', 32, 123]"
      ]
     },
     "execution_count": 18,
     "metadata": {},
     "output_type": "execute_result"
    }
   ],
   "source": [
    "my_list[:6]"
   ]
  },
  {
   "cell_type": "code",
   "execution_count": 19,
   "id": "cf0b9cee-5ecc-4907-9437-27edf4885022",
   "metadata": {},
   "outputs": [],
   "source": [
    "another_list = [\"ertert\",233]"
   ]
  },
  {
   "cell_type": "code",
   "execution_count": 20,
   "id": "2b08ebae-b615-4879-b4c5-43adbb7bc51c",
   "metadata": {},
   "outputs": [],
   "source": [
    "new_list = my_list + another_list"
   ]
  },
  {
   "cell_type": "code",
   "execution_count": 21,
   "id": "87bfa82f-5a3c-4486-9fb8-35b9ad55a0e8",
   "metadata": {},
   "outputs": [
    {
     "data": {
      "text/plain": [
       "[1, 2, 3, 'eight', 32, 123, 435, 'ertert', 233]"
      ]
     },
     "execution_count": 21,
     "metadata": {},
     "output_type": "execute_result"
    }
   ],
   "source": [
    "new_list"
   ]
  },
  {
   "cell_type": "code",
   "execution_count": 23,
   "id": "58f681a3-c6a3-4c75-8912-3ca81f1426cc",
   "metadata": {},
   "outputs": [],
   "source": [
    "new_list[0] = \"ONE\""
   ]
  },
  {
   "cell_type": "code",
   "execution_count": 24,
   "id": "0dea3ed7-287f-4326-a92e-b41669665a75",
   "metadata": {},
   "outputs": [
    {
     "data": {
      "text/plain": [
       "['ONE', 2, 3, 'eight', 32, 123, 435, 'ertert', 233]"
      ]
     },
     "execution_count": 24,
     "metadata": {},
     "output_type": "execute_result"
    }
   ],
   "source": [
    "new_list"
   ]
  },
  {
   "cell_type": "code",
   "execution_count": 25,
   "id": "57a5d7c0-f10d-4046-b8fc-a515feecfefa",
   "metadata": {},
   "outputs": [],
   "source": [
    "new_list.append(\"rwekoijgtn\") "
   ]
  },
  {
   "cell_type": "code",
   "execution_count": 26,
   "id": "7cabd8d9-27b7-447f-a3e7-9bf267a61f5e",
   "metadata": {},
   "outputs": [
    {
     "data": {
      "text/plain": [
       "['ONE', 2, 3, 'eight', 32, 123, 435, 'ertert', 233, 'rwekoijgtn']"
      ]
     },
     "execution_count": 26,
     "metadata": {},
     "output_type": "execute_result"
    }
   ],
   "source": [
    "new_list"
   ]
  },
  {
   "cell_type": "code",
   "execution_count": 27,
   "id": "91420b46-456d-4fce-842b-649b514f0986",
   "metadata": {},
   "outputs": [],
   "source": [
    "new_list.append(234)"
   ]
  },
  {
   "cell_type": "code",
   "execution_count": 28,
   "id": "8b2344da-8010-437f-8990-f5a2e5b6922a",
   "metadata": {},
   "outputs": [
    {
     "data": {
      "text/plain": [
       "['ONE', 2, 3, 'eight', 32, 123, 435, 'ertert', 233, 'rwekoijgtn', 234]"
      ]
     },
     "execution_count": 28,
     "metadata": {},
     "output_type": "execute_result"
    }
   ],
   "source": [
    "new_list"
   ]
  },
  {
   "cell_type": "code",
   "execution_count": 29,
   "id": "1c9c771a-d8d9-4398-873b-47351a8700b7",
   "metadata": {},
   "outputs": [
    {
     "data": {
      "text/plain": [
       "234"
      ]
     },
     "execution_count": 29,
     "metadata": {},
     "output_type": "execute_result"
    }
   ],
   "source": [
    "new_list.pop()"
   ]
  },
  {
   "cell_type": "code",
   "execution_count": 30,
   "id": "1cc15476-6bf5-445b-aa1f-69b2f5a87681",
   "metadata": {},
   "outputs": [
    {
     "data": {
      "text/plain": [
       "['ONE', 2, 3, 'eight', 32, 123, 435, 'ertert', 233, 'rwekoijgtn']"
      ]
     },
     "execution_count": 30,
     "metadata": {},
     "output_type": "execute_result"
    }
   ],
   "source": [
    "new_list"
   ]
  },
  {
   "cell_type": "code",
   "execution_count": 31,
   "id": "787a515b-c5c1-443a-a0de-9353d46dd5da",
   "metadata": {},
   "outputs": [],
   "source": [
    "popped_item = new_list.pop()"
   ]
  },
  {
   "cell_type": "code",
   "execution_count": 32,
   "id": "a9c2beab-70dd-4d6b-8a32-4d2cbcc80172",
   "metadata": {},
   "outputs": [
    {
     "data": {
      "text/plain": [
       "'rwekoijgtn'"
      ]
     },
     "execution_count": 32,
     "metadata": {},
     "output_type": "execute_result"
    }
   ],
   "source": [
    "popped_item"
   ]
  },
  {
   "cell_type": "code",
   "execution_count": 35,
   "id": "02bb00d3-3380-459d-b2c1-b44da47dec00",
   "metadata": {},
   "outputs": [
    {
     "data": {
      "text/plain": [
       "['ONE', 2, 3, 'eight', 32, 123, 435, 'ertert', 233]"
      ]
     },
     "execution_count": 35,
     "metadata": {},
     "output_type": "execute_result"
    }
   ],
   "source": [
    "new_list"
   ]
  },
  {
   "cell_type": "code",
   "execution_count": 38,
   "id": "c2aa7651-9412-428c-a189-8d1eccb31060",
   "metadata": {},
   "outputs": [
    {
     "ename": "ValueError",
     "evalue": "list.remove(x): x not in list",
     "output_type": "error",
     "traceback": [
      "\u001b[1;31m---------------------------------------------------------------------------\u001b[0m",
      "\u001b[1;31mValueError\u001b[0m                                Traceback (most recent call last)",
      "Cell \u001b[1;32mIn[38], line 1\u001b[0m\n\u001b[1;32m----> 1\u001b[0m new_list\u001b[38;5;241m.\u001b[39mremove(\u001b[38;5;241m2\u001b[39m)\n",
      "\u001b[1;31mValueError\u001b[0m: list.remove(x): x not in list"
     ]
    }
   ],
   "source": [
    "new_list.remove(2)"
   ]
  },
  {
   "cell_type": "code",
   "execution_count": 37,
   "id": "04f126a4-cdcb-49d0-8901-11dd34360aa7",
   "metadata": {},
   "outputs": [
    {
     "data": {
      "text/plain": [
       "['ONE', 3, 'eight', 32, 123, 435, 'ertert', 233]"
      ]
     },
     "execution_count": 37,
     "metadata": {},
     "output_type": "execute_result"
    }
   ],
   "source": []
  },
  {
   "cell_type": "code",
   "execution_count": 39,
   "id": "5b95efd8-439a-4906-aab6-5571a78a9a01",
   "metadata": {},
   "outputs": [
    {
     "data": {
      "text/plain": [
       "['ONE', 3, 'eight', 32, 123, 435, 'ertert', 233]"
      ]
     },
     "execution_count": 39,
     "metadata": {},
     "output_type": "execute_result"
    }
   ],
   "source": [
    "new_list"
   ]
  },
  {
   "cell_type": "code",
   "execution_count": 40,
   "id": "d25db3b3-b0f2-4ec3-8ecf-69d39f2fd610",
   "metadata": {},
   "outputs": [
    {
     "data": {
      "text/plain": [
       "'ONE'"
      ]
     },
     "execution_count": 40,
     "metadata": {},
     "output_type": "execute_result"
    }
   ],
   "source": [
    "new_list.pop(0)"
   ]
  },
  {
   "cell_type": "code",
   "execution_count": 41,
   "id": "92698684-c235-4899-a6f0-ea13c6b7e62b",
   "metadata": {},
   "outputs": [
    {
     "data": {
      "text/plain": [
       "233"
      ]
     },
     "execution_count": 41,
     "metadata": {},
     "output_type": "execute_result"
    }
   ],
   "source": [
    "new_list.pop(-1)"
   ]
  },
  {
   "cell_type": "code",
   "execution_count": 42,
   "id": "208bbf0b-c5ef-4fcb-8512-312857598cb4",
   "metadata": {},
   "outputs": [
    {
     "data": {
      "text/plain": [
       "[3, 'eight', 32, 123, 435, 'ertert']"
      ]
     },
     "execution_count": 42,
     "metadata": {},
     "output_type": "execute_result"
    }
   ],
   "source": [
    "new_list"
   ]
  },
  {
   "cell_type": "code",
   "execution_count": 43,
   "id": "4e25fcc1-7b36-45cb-98cb-34107bd2dbb4",
   "metadata": {},
   "outputs": [],
   "source": [
    "new_list = [\"a\",\"e\",\"r\",\"b\"]"
   ]
  },
  {
   "cell_type": "code",
   "execution_count": 44,
   "id": "f028eb03-abbc-4c0f-ab5a-50ca10279b48",
   "metadata": {},
   "outputs": [
    {
     "data": {
      "text/plain": [
       "['a', 'e', 'r', 'b']"
      ]
     },
     "execution_count": 44,
     "metadata": {},
     "output_type": "execute_result"
    }
   ],
   "source": [
    "new_list"
   ]
  },
  {
   "cell_type": "code",
   "execution_count": 45,
   "id": "28f9f8c7-1184-4a41-9d0e-81f49e90df9f",
   "metadata": {},
   "outputs": [],
   "source": [
    "new_list.sort()"
   ]
  },
  {
   "cell_type": "code",
   "execution_count": 46,
   "id": "cdeb21e3-db51-496e-94bc-02e8bba76906",
   "metadata": {},
   "outputs": [
    {
     "data": {
      "text/plain": [
       "['a', 'b', 'e', 'r']"
      ]
     },
     "execution_count": 46,
     "metadata": {},
     "output_type": "execute_result"
    }
   ],
   "source": [
    "new_list"
   ]
  },
  {
   "cell_type": "code",
   "execution_count": 47,
   "id": "3345b66f-8d0c-4e71-97c8-db01c8ab69ea",
   "metadata": {},
   "outputs": [
    {
     "ename": "TypeError",
     "evalue": "sort() takes no positional arguments",
     "output_type": "error",
     "traceback": [
      "\u001b[1;31m---------------------------------------------------------------------------\u001b[0m",
      "\u001b[1;31mTypeError\u001b[0m                                 Traceback (most recent call last)",
      "Cell \u001b[1;32mIn[47], line 1\u001b[0m\n\u001b[1;32m----> 1\u001b[0m new_list\u001b[38;5;241m.\u001b[39msort(\u001b[38;5;241m-\u001b[39m\u001b[38;5;241m1\u001b[39m)\n",
      "\u001b[1;31mTypeError\u001b[0m: sort() takes no positional arguments"
     ]
    }
   ],
   "source": [
    "new_list.sort(-1)"
   ]
  },
  {
   "cell_type": "code",
   "execution_count": 48,
   "id": "594f58e9-5e41-46b3-a204-dccfe004446f",
   "metadata": {},
   "outputs": [],
   "source": [
    "num_list = [1,56,3,423,65]"
   ]
  },
  {
   "cell_type": "code",
   "execution_count": 49,
   "id": "37e7e09c-cc87-456f-919d-38a271c57d17",
   "metadata": {},
   "outputs": [],
   "source": [
    "num_list.sort()"
   ]
  },
  {
   "cell_type": "code",
   "execution_count": 50,
   "id": "56eb427f-5748-48bd-ab4c-6d9237b5192e",
   "metadata": {},
   "outputs": [
    {
     "data": {
      "text/plain": [
       "[1, 3, 56, 65, 423]"
      ]
     },
     "execution_count": 50,
     "metadata": {},
     "output_type": "execute_result"
    }
   ],
   "source": [
    "num_list"
   ]
  },
  {
   "cell_type": "code",
   "execution_count": 51,
   "id": "ce91c885-ee39-4acf-bc0d-2ad983748a73",
   "metadata": {},
   "outputs": [],
   "source": [
    "another_num_list = [23,4,234,566,12,1,50]"
   ]
  },
  {
   "cell_type": "code",
   "execution_count": 52,
   "id": "d974fec8-17dd-471f-b85a-3f275d6dc9cb",
   "metadata": {},
   "outputs": [],
   "source": [
    "another_num_list.sort()\n",
    "new_num_list = another_num_list"
   ]
  },
  {
   "cell_type": "code",
   "execution_count": 53,
   "id": "da26c8ae-f3af-4881-afc3-ef9646a27974",
   "metadata": {},
   "outputs": [
    {
     "data": {
      "text/plain": [
       "[1, 4, 12, 23, 50, 234, 566]"
      ]
     },
     "execution_count": 53,
     "metadata": {},
     "output_type": "execute_result"
    }
   ],
   "source": [
    "new_num_list"
   ]
  },
  {
   "cell_type": "code",
   "execution_count": 54,
   "id": "d1cd85b6-3782-4180-82b0-d57ca8397361",
   "metadata": {},
   "outputs": [],
   "source": [
    "new_num_list.reverse()"
   ]
  },
  {
   "cell_type": "code",
   "execution_count": 55,
   "id": "a7895903-5033-41e7-8278-b180dcbfed47",
   "metadata": {},
   "outputs": [
    {
     "data": {
      "text/plain": [
       "[566, 234, 50, 23, 12, 4, 1]"
      ]
     },
     "execution_count": 55,
     "metadata": {},
     "output_type": "execute_result"
    }
   ],
   "source": [
    "new_num_list"
   ]
  },
  {
   "cell_type": "code",
   "execution_count": 57,
   "id": "da3df2e8-4264-426f-94e2-cd192eb23917",
   "metadata": {},
   "outputs": [
    {
     "name": "stdout",
     "output_type": "stream",
     "text": [
      "None\n"
     ]
    }
   ],
   "source": [
    "print(new_num_list.reverse())"
   ]
  },
  {
   "cell_type": "code",
   "execution_count": 58,
   "id": "ab043773-6521-433d-87b4-04162e75b099",
   "metadata": {},
   "outputs": [
    {
     "name": "stdout",
     "output_type": "stream",
     "text": [
      "[1, 4, 12, 23, 50, 234, 566]\n"
     ]
    }
   ],
   "source": [
    "new_num_list.reverse()\n",
    "print(new_num_list)"
   ]
  },
  {
   "cell_type": "code",
   "execution_count": 59,
   "id": "323fe707-6d44-4fc6-a5c6-5833dc006f57",
   "metadata": {},
   "outputs": [
    {
     "data": {
      "text/plain": [
       "[1, 4, 12, 23, 50, 234, 566]"
      ]
     },
     "execution_count": 59,
     "metadata": {},
     "output_type": "execute_result"
    }
   ],
   "source": [
    "new_num_list"
   ]
  },
  {
   "cell_type": "code",
   "execution_count": null,
   "id": "2ae9a8e3-a84b-49c5-b5b0-49b50c84097b",
   "metadata": {},
   "outputs": [],
   "source": []
  }
 ],
 "metadata": {
  "kernelspec": {
   "display_name": "Python 3 (ipykernel)",
   "language": "python",
   "name": "python3"
  },
  "language_info": {
   "codemirror_mode": {
    "name": "ipython",
    "version": 3
   },
   "file_extension": ".py",
   "mimetype": "text/x-python",
   "name": "python",
   "nbconvert_exporter": "python",
   "pygments_lexer": "ipython3",
   "version": "3.11.5"
  }
 },
 "nbformat": 4,
 "nbformat_minor": 5
}
