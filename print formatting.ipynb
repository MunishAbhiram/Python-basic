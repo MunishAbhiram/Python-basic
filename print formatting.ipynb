{
 "cells": [
  {
   "cell_type": "code",
   "execution_count": 1,
   "id": "b19bda98-c2eb-4133-9e01-50d033bbd93f",
   "metadata": {},
   "outputs": [
    {
     "ename": "NameError",
     "evalue": "name 'abhi' is not defined",
     "output_type": "error",
     "traceback": [
      "\u001b[1;31m---------------------------------------------------------------------------\u001b[0m",
      "\u001b[1;31mNameError\u001b[0m                                 Traceback (most recent call last)",
      "Cell \u001b[1;32mIn[1], line 1\u001b[0m\n\u001b[1;32m----> 1\u001b[0m my_name \u001b[38;5;241m=\u001b[39m abhi\n",
      "\u001b[1;31mNameError\u001b[0m: name 'abhi' is not defined"
     ]
    }
   ],
   "source": [
    "my_name = abhi"
   ]
  },
  {
   "cell_type": "code",
   "execution_count": 2,
   "id": "083bb90c-ef26-4865-8989-8d0e5ee36fb4",
   "metadata": {},
   "outputs": [],
   "source": [
    "my_name = \"abhi\""
   ]
  },
  {
   "cell_type": "code",
   "execution_count": 3,
   "id": "88288751-bee1-4462-ae33-d9088f49d23e",
   "metadata": {},
   "outputs": [
    {
     "data": {
      "text/plain": [
       "'abhi'"
      ]
     },
     "execution_count": 3,
     "metadata": {},
     "output_type": "execute_result"
    }
   ],
   "source": [
    "my_name"
   ]
  },
  {
   "cell_type": "code",
   "execution_count": 4,
   "id": "4845d1c7-7d77-4862-8c40-ccce36781aaa",
   "metadata": {},
   "outputs": [
    {
     "name": "stdout",
     "output_type": "stream",
     "text": [
      "hiabhi\n"
     ]
    }
   ],
   "source": [
    "print (\"hi\" + my_name)"
   ]
  },
  {
   "cell_type": "code",
   "execution_count": 5,
   "id": "dac7b5da-35dc-4880-9ad6-622a6ccb1dd1",
   "metadata": {},
   "outputs": [
    {
     "name": "stdout",
     "output_type": "stream",
     "text": [
      "hi abhi\n"
     ]
    }
   ],
   "source": [
    "print (\"hi \" + my_name)"
   ]
  },
  {
   "cell_type": "code",
   "execution_count": 6,
   "id": "c61f6173-b208-49a1-9773-dd73a2ec333c",
   "metadata": {},
   "outputs": [
    {
     "name": "stdout",
     "output_type": "stream",
     "text": [
      "this is a string inserted\n"
     ]
    }
   ],
   "source": [
    "print (\"this is a string {}\".format(\"inserted\"))"
   ]
  },
  {
   "cell_type": "code",
   "execution_count": 7,
   "id": "90ea47dc-e91c-48dc-bc20-8c7736a16a26",
   "metadata": {},
   "outputs": [
    {
     "name": "stdout",
     "output_type": "stream",
     "text": [
      "my name is gustavo\n"
     ]
    }
   ],
   "source": [
    "print (\"my {1} is {0}\".format(\"gustavo\",\"name\"))"
   ]
  },
  {
   "cell_type": "code",
   "execution_count": 10,
   "id": "560fdf95-ee3c-47fe-a959-b9079c42e922",
   "metadata": {},
   "outputs": [
    {
     "name": "stdout",
     "output_type": "stream",
     "text": [
      "my name is Gustavo but you can call me Gus\n"
     ]
    }
   ],
   "source": [
    "print (\"my {1} is {0} but {4} can {2} me {3}\".format (\"Gustavo\", \"name\", \"call\", \"Gus\", \"you\"))"
   ]
  },
  {
   "cell_type": "code",
   "execution_count": 11,
   "id": "9af9ff59-a73f-4ac7-8f81-e3b043e4b86d",
   "metadata": {},
   "outputs": [
    {
     "name": "stdout",
     "output_type": "stream",
     "text": [
      "my name is gustavo\n"
     ]
    }
   ],
   "source": [
    "print (\"my {n} is {g}\".format (g='gustavo',n='name'))"
   ]
  },
  {
   "cell_type": "code",
   "execution_count": 25,
   "id": "e4372bb5-2330-4226-945c-2c43e3a2d9a3",
   "metadata": {},
   "outputs": [],
   "source": [
    "result = 99/2"
   ]
  },
  {
   "cell_type": "code",
   "execution_count": 26,
   "id": "7f862088-7a30-4c1c-aca7-e87e74e2808d",
   "metadata": {},
   "outputs": [
    {
     "data": {
      "text/plain": [
       "49.5"
      ]
     },
     "execution_count": 26,
     "metadata": {},
     "output_type": "execute_result"
    }
   ],
   "source": [
    "result"
   ]
  },
  {
   "cell_type": "code",
   "execution_count": 27,
   "id": "7820c769-85ec-4a99-85af-df262d707429",
   "metadata": {},
   "outputs": [
    {
     "name": "stdout",
     "output_type": "stream",
     "text": [
      "the result is 49.5\n"
     ]
    }
   ],
   "source": [
    "print (\"the result is {r}\".format(r=result))"
   ]
  },
  {
   "cell_type": "code",
   "execution_count": 28,
   "id": "33f71f98-48b1-459b-8981-3cc36c82f741",
   "metadata": {},
   "outputs": [
    {
     "name": "stdout",
     "output_type": "stream",
     "text": [
      "the result is 49.5\n"
     ]
    }
   ],
   "source": [
    "print (\"the result is {r:1.5}\".format(r=result))"
   ]
  },
  {
   "cell_type": "code",
   "execution_count": 29,
   "id": "911a37f7-62ac-478c-a0bb-54d85a2599a2",
   "metadata": {},
   "outputs": [
    {
     "name": "stdout",
     "output_type": "stream",
     "text": [
      "the result is 49.50000\n"
     ]
    }
   ],
   "source": [
    "print (\"the result is {r:1.5f}\".format(r=result))"
   ]
  },
  {
   "cell_type": "code",
   "execution_count": 30,
   "id": "20220a2a-a1d5-4bf7-9341-11ffcd243853",
   "metadata": {},
   "outputs": [
    {
     "name": "stdout",
     "output_type": "stream",
     "text": [
      "the result is 49.5\n"
     ]
    }
   ],
   "source": [
    "print (\"the result is {r:1.5}\".format(r=result))"
   ]
  },
  {
   "cell_type": "code",
   "execution_count": 31,
   "id": "209d48d1-5e99-464a-8f4d-0749e1f3aecb",
   "metadata": {},
   "outputs": [
    {
     "name": "stdout",
     "output_type": "stream",
     "text": [
      "the result is 49.500\n"
     ]
    }
   ],
   "source": [
    "print (\"the result is {r:1.3f}\".format(r=result))"
   ]
  },
  {
   "cell_type": "code",
   "execution_count": 32,
   "id": "3014f630-34bb-4412-af18-af7c11db27ff",
   "metadata": {},
   "outputs": [
    {
     "name": "stdout",
     "output_type": "stream",
     "text": [
      "the result is 49.5\n"
     ]
    }
   ],
   "source": [
    "print (\"the result is {r:1.3}\".format(r=result))"
   ]
  },
  {
   "cell_type": "code",
   "execution_count": 33,
   "id": "b3e1729f-d100-4de3-8cac-7c234d21efce",
   "metadata": {},
   "outputs": [],
   "source": [
    "Name = \"abhi\""
   ]
  },
  {
   "cell_type": "code",
   "execution_count": 34,
   "id": "1a7016e4-e33c-44f4-8483-6ee1310c6c5a",
   "metadata": {},
   "outputs": [
    {
     "data": {
      "text/plain": [
       "'abhi'"
      ]
     },
     "execution_count": 34,
     "metadata": {},
     "output_type": "execute_result"
    }
   ],
   "source": [
    "Name"
   ]
  },
  {
   "cell_type": "code",
   "execution_count": 35,
   "id": "b532118e-b8fa-4515-a2ff-abcc55933eb0",
   "metadata": {},
   "outputs": [],
   "source": [
    "Age = \"16\""
   ]
  },
  {
   "cell_type": "code",
   "execution_count": 36,
   "id": "c66fd09a-9fdb-4d18-adb8-0ef16629b0dc",
   "metadata": {},
   "outputs": [
    {
     "name": "stdout",
     "output_type": "stream",
     "text": [
      "abhi is 16 years old\n"
     ]
    }
   ],
   "source": [
    "print (f\"{Name} is {Age} years old\")"
   ]
  },
  {
   "cell_type": "code",
   "execution_count": null,
   "id": "81ff0c61-9399-4146-a273-db8907674468",
   "metadata": {},
   "outputs": [],
   "source": []
  }
 ],
 "metadata": {
  "kernelspec": {
   "display_name": "Python 3 (ipykernel)",
   "language": "python",
   "name": "python3"
  },
  "language_info": {
   "codemirror_mode": {
    "name": "ipython",
    "version": 3
   },
   "file_extension": ".py",
   "mimetype": "text/x-python",
   "name": "python",
   "nbconvert_exporter": "python",
   "pygments_lexer": "ipython3",
   "version": "3.11.5"
  }
 },
 "nbformat": 4,
 "nbformat_minor": 5
}
